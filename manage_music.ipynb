{
 "cells": [
  {
   "cell_type": "markdown",
   "id": "0ffd76c5",
   "metadata": {},
   "source": [
    "# MusicManager Script Overview\n",
    "\n",
    "The `MusicManager` class is a Python script designed to manage and clean up data from Spotify and the Seated platform. It loads artist and album information from CSV files, applies custom mappings and cleanup rules, and tracks changes for easy review. The class also supports exporting data and working with an exclude list for artists.\n",
    "\n",
    "### Key Features\n",
    "- Load and clean artist and album data.\n",
    "- Apply custom artist name mappings and track cleaned titles.\n",
    "- Fetch, display, and compare artist data with the Seated platform.\n",
    "- Export missing or cleaned artist data to text files for external use.\n",
    "\n",
    "---\n",
    "\n",
    "### API Reference\n",
    "\n",
    "#### Initialization\n",
    "- `MusicManager()`: Initializes an instance of the `MusicManager` class with empty data attributes.\n",
    "\n",
    "#### Data Loading Methods\n",
    "- `load_artist_mapping(csv_file)`: Loads an artist cleanup mapping from a colon-separated CSV file.\n",
    "- `load_artists(csv_file)`: Loads and cleans artist data from a CSV file.\n",
    "- `load_albums(csv_file)`: Loads and cleans album data, applying cleanup rules and tracking title changes.\n",
    "- `load_exclude_artists(exclude_file)`: Loads a list of excluded artists from a text file (one artist per line).\n",
    "- `load_seated_artists(filename, fetch=False, login_id=None)`: Loads artist data from a specified text file. If `fetch=True`, fetches fresh data from Seated using the provided `login_id`.\n",
    "\n",
    "#### Data Processing Methods\n",
    "- `formatted_all_artists()`: Returns a DataFrame of unique cleaned artists with album counts, sorted alphabetically.\n",
    "- `formatted_top_artists(num_albums=3)`: Returns a DataFrame of artists with at least `num_albums` albums, sorted by album count.\n",
    "- `formatted_album_info()`: Returns a DataFrame of cleaned album information, sorted by Artist and Release Date.\n",
    "- `formatted_cleanup_review()`: Returns a DataFrame showing the original and cleaned album names for review.\n",
    "- `formatted_exclude_artists()`: Returns a DataFrame of artists in the exclude list.\n",
    "- `formatted_seated_artists()`: Returns a DataFrame of artists loaded from the Seated platform.\n",
    "- `formatted_missing_seated_artists()`: Returns a DataFrame of artists missing from the Seated list, excluding any artists in the exclude list.\n",
    "\n",
    "#### Export Methods\n",
    "- `export_missing_seated_artists(filename)`: Exports the list of missing seated artists to a text file, with each artist on a new line.\n"
   ]
  },
  {
   "cell_type": "code",
   "execution_count": null,
   "id": "46406144",
   "metadata": {},
   "outputs": [],
   "source": [
    "from manage_music_lib import *\n",
    "\n",
    "pd.set_option('display.max_rows', None)\n",
    "pd.set_option('display.max_colwidth', 40) \n",
    "pd.set_option('display.width', 400)"
   ]
  },
  {
   "cell_type": "code",
   "execution_count": null,
   "id": "1290074a",
   "metadata": {},
   "outputs": [],
   "source": [
    "music_library = MusicManager()\n",
    "music_library.load_artist_mapping('artist_mapping.csv')\n",
    "music_library.load_artists('spotify_artists.csv')\n",
    "music_library.load_albums('spotify_albums.csv')\n",
    "music_library.load_exclude_artists('artist_exclude_list.txt')\n",
    "music_library.load_seated_artists('seated_artists.txt')"
   ]
  },
  {
   "cell_type": "code",
   "execution_count": null,
   "id": "6678ead0",
   "metadata": {},
   "outputs": [],
   "source": [
    "display(music_library.formatted_missing_seated_artists())"
   ]
  },
  {
   "cell_type": "code",
   "execution_count": null,
   "id": "e7fd17b0",
   "metadata": {},
   "outputs": [],
   "source": [
    "display(music_library.formatted_top_artists())"
   ]
  }
 ],
 "metadata": {
  "kernelspec": {
   "display_name": "Python 3 (ipykernel)",
   "language": "python",
   "name": "python3"
  },
  "language_info": {
   "codemirror_mode": {
    "name": "ipython",
    "version": 3
   },
   "file_extension": ".py",
   "mimetype": "text/x-python",
   "name": "python",
   "nbconvert_exporter": "python",
   "pygments_lexer": "ipython3",
   "version": "3.11.4"
  }
 },
 "nbformat": 4,
 "nbformat_minor": 5
}
